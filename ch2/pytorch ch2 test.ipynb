{
 "cells": [
  {
   "cell_type": "code",
   "execution_count": 23,
   "id": "f42f03eb",
   "metadata": {},
   "outputs": [
    {
     "data": {
      "text/plain": [
       "'2.1.2+cu118'"
      ]
     },
     "execution_count": 23,
     "metadata": {},
     "output_type": "execute_result"
    }
   ],
   "source": [
    "import torch\n",
    "torch.__version__ # 顯示pytorch版本"
   ]
  },
  {
   "cell_type": "code",
   "execution_count": 24,
   "id": "cc80203e",
   "metadata": {},
   "outputs": [],
   "source": [
    "import numpy as np\n",
    "import matplotlib.pyplot as plt\n",
    "\n",
    "%matplotlib inline\n",
    "\n",
    "from torch.autograd import Variable"
   ]
  },
  {
   "cell_type": "code",
   "execution_count": 32,
   "id": "925e34b1",
   "metadata": {},
   "outputs": [],
   "source": [
    "# Training Data\n",
    "def get_data():\n",
    "    train_X = np.asarray([3.3,4.4,5.5,6.71,6.93,4.168,9.779,6.182,7.59,2.167,\n",
    "                         7.042,10.791,5.313,7.997,5.654,9.27,3.1])\n",
    "    train_Y = np.asarray([1.7,2.76,2.09,3.19,1.694,1.573,3.366,2.596,2.53,1.221,\n",
    "                         2.827,3.465,1.65,2.904,2.42,2.94,1.3])\n",
    "    dtype = torch.FloatTensor\n",
    "    X = Variable(torch.from_numpy(train_X).type(dtype),requires_grad=False).view(17,1)\n",
    "    y = Variable(torch.from_numpy(train_Y).type(dtype),requires_grad=False)\n",
    "    return X,y\n",
    "\n",
    "def plot_variable(x,y,z='',**kwargs): # 繪製圖表函數\n",
    "    l = []\n",
    "    for a in [x,y]: # a 印出來是有資料的，但 x 與 y 差了一個中括號，懷疑影響下方判斷\n",
    "        if type(a) == Variable: # Variable 好像也是舊版 pytorch才有\n",
    "            l.append(a.data.numpy())\n",
    "    if(len(l) >=2):\n",
    "        plt.plot(l[0],l[1],z,**kwargs)\n",
    "\n",
    "def get_weights():\n",
    "    w = Variable(torch.randn(1),requires_grad = True)\n",
    "    b = Variable(torch.randn(1),requires_grad = True)\n",
    "    return w,b\n",
    "\n",
    "def simple_network(x):\n",
    "    y_pred = torch.matmul(x,w)+b\n",
    "    return y_pred\n",
    "\n",
    "def loss_fn(y,y_pred):\n",
    "    loss = (y_pred-y).pow(2).sum()\n",
    "    for param in [w,b]:\n",
    "        if not param.grad is None: param.grad.data.zero_()\n",
    "    loss.backward()\n",
    "    return loss.data #原先程式碼為loss.data[0]，pytorch 0.5 以上的版本就不支援了，懷疑影響最後繪圖結果\n",
    "\n",
    "\n",
    "def optimize(learning_rate):\n",
    "    w.data -= learning_rate * w.grad.data\n",
    "    b.data -= learning_rate * b.grad.data\n",
    "\n",
    "learning_rate = 1e-4"
   ]
  },
  {
   "cell_type": "code",
   "execution_count": 33,
   "id": "7cee3810",
   "metadata": {
    "scrolled": true
   },
   "outputs": [
    {
     "name": "stdout",
     "output_type": "stream",
     "text": [
      "tensor(39.5435)\n",
      "tensor(2.6532)\n",
      "tensor(2.6516)\n",
      "tensor(2.6502)\n",
      "tensor(2.6488)\n",
      "tensor(2.6474)\n",
      "tensor(2.6462)\n",
      "tensor(2.6449)\n",
      "tensor(2.6437)\n",
      "tensor(2.6426)\n"
     ]
    }
   ],
   "source": [
    "x,y = get_data()               # x - represents training data,y - represents target variables\n",
    "w,b = get_weights()           # w,b - Learnable parameters\n",
    "for i in range(500):\n",
    "    y_pred = simple_network(x) # function which computes wx + b\n",
    "    loss = loss_fn(y,y_pred)   # calculates sum of the squared differences of y and y_pred\n",
    "    if i % 50 == 0: \n",
    "        print(loss)\n",
    "    optimize(learning_rate)    # Adjust w,b to minimize the loss"
   ]
  },
  {
   "cell_type": "code",
   "execution_count": 34,
   "id": "35fff015",
   "metadata": {
    "scrolled": true
   },
   "outputs": [],
   "source": [
    "x_numpy = x.data.numpy()\n",
    "plot_variable(x,y,'ro')# 兩個圖表l長度皆為0，導致無法繪圖\n",
    "plot_variable(x,y_pred,label='Fitted line')"
   ]
  },
  {
   "cell_type": "code",
   "execution_count": null,
   "id": "2af1ccd1",
   "metadata": {},
   "outputs": [],
   "source": []
  }
 ],
 "metadata": {
  "kernelspec": {
   "display_name": "Python 3 (ipykernel)",
   "language": "python",
   "name": "python3"
  },
  "language_info": {
   "codemirror_mode": {
    "name": "ipython",
    "version": 3
   },
   "file_extension": ".py",
   "mimetype": "text/x-python",
   "name": "python",
   "nbconvert_exporter": "python",
   "pygments_lexer": "ipython3",
   "version": "3.11.4"
  }
 },
 "nbformat": 4,
 "nbformat_minor": 5
}
